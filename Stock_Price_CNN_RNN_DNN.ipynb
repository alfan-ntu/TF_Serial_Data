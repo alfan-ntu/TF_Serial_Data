{
  "nbformat": 4,
  "nbformat_minor": 0,
  "metadata": {
    "colab": {
      "provenance": [],
      "gpuType": "T4",
      "mount_file_id": "1fGOhoAeWW7fAPgeHrD3eAH_zUNwr86BO",
      "authorship_tag": "ABX9TyOsGEioh9wROWpFRZix9QIx",
      "include_colab_link": true
    },
    "kernelspec": {
      "name": "python3",
      "display_name": "Python 3"
    },
    "language_info": {
      "name": "python"
    },
    "accelerator": "GPU"
  },
  "cells": [
    {
      "cell_type": "markdown",
      "metadata": {
        "id": "view-in-github",
        "colab_type": "text"
      },
      "source": [
        "<a href=\"https://colab.research.google.com/github/alfan-ntu/TF_Serial_Data/blob/master/Stock_Price_CNN_RNN_DNN.ipynb\" target=\"_parent\"><img src=\"https://colab.research.google.com/assets/colab-badge.svg\" alt=\"Open In Colab\"/></a>"
      ]
    },
    {
      "cell_type": "code",
      "execution_count": 1,
      "metadata": {
        "id": "AiJhUt3YNoOI"
      },
      "outputs": [],
      "source": [
        "\"\"\" Import Libraries \"\"\"\n",
        "import tensorflow as tf\n",
        "import numpy as np\n",
        "import matplotlib.pyplot as plt\n",
        "import csv"
      ]
    },
    {
      "cell_type": "code",
      "source": [
        "\"\"\" Utilities , no more helper functions to generate synthetic data \"\"\"\n",
        "def plot_series(x, y, format='-', start=0, end=None, title=None,\n",
        "                xlabel=None, ylabel=None, legend=None):\n",
        "    \"\"\"\n",
        "    Visualizes time series data\n",
        "\n",
        "    Args:\n",
        "      x (array of int) - contains values for the x-axis\n",
        "      y (array of int or tuple of arrays) - contains the values for the y-axis\n",
        "      format (string) - line style when plotting the graph\n",
        "      start (int) - first time step to plot\n",
        "      end (int) - last time step to plot\n",
        "      title (string) - title of the plot\n",
        "      xlabel (string) - label for the x-axis\n",
        "      ylabel (string) - label for the y-axis\n",
        "      legend (list of strings) - legend for the plot\n",
        "    \"\"\"\n",
        "\n",
        "    # Setup figure dimension\n",
        "    plt.figure(figsize=(5, 3))\n",
        "\n",
        "    # Check if there are more than two series to plot\n",
        "    if type(y) is tuple:\n",
        "      for y_curr in y:\n",
        "        # plot the x and current y values\n",
        "        plt.plot(x[start:end], y_curr[start:end], format)\n",
        "    else:\n",
        "      plt.plot(x[start:end], y[start:end], format)\n",
        "\n",
        "    # label the x-axis\n",
        "    plt.xlabel(xlabel)\n",
        "\n",
        "    # label the y-axis\n",
        "    plt.ylabel(ylabel)\n",
        "\n",
        "    # Set the legend\n",
        "    if legend:\n",
        "      plt.legend(legend)\n",
        "\n",
        "    # Set the title\n",
        "    plt.title(title)\n",
        "\n",
        "    # Overlay a grid over the graph\n",
        "    plt.grid(True)\n",
        "\n",
        "    # Draw the graph on screen\n",
        "    plt.show()\n",
        "\n",
        "    return"
      ],
      "metadata": {
        "id": "Xv66Bj4pRGD9"
      },
      "execution_count": 2,
      "outputs": []
    },
    {
      "cell_type": "code",
      "source": [
        "# Initialize lists\n",
        "time_step = []\n",
        "closing_price = []\n",
        "\n",
        "# Open CSV file and read it row by row\n",
        "with open('./drive/MyDrive/test_data/2330_stock_data_2011-01-01.csv') as csvfile:\n",
        "  # initialize a csv file reader\n",
        "  reader = csv.reader(csvfile, delimiter=',')\n",
        "  # skip the first row\n",
        "  next(reader)\n",
        "  # iterate the remaining rows\n",
        "  no_rec = 0\n",
        "  for row in reader:\n",
        "    # time_step.append(int(row[0]))\n",
        "    closing_price.append(float(row[6]))\n",
        "    no_rec += 1\n",
        "\n",
        "  time_step = [*range(no_rec)]\n",
        "\n",
        "# Convert lists to numpy arrays\n",
        "time = np.array(time_step)\n",
        "series = np.array(closing_price)\n",
        "\n",
        "# Plort the sunspots series\n",
        "plot_series(time, series, xlabel='Date', ylabel='Closing Price')"
      ],
      "metadata": {
        "colab": {
          "base_uri": "https://localhost:8080/",
          "height": 312
        },
        "id": "IDvWSO0FVvew",
        "outputId": "2cd9fad8-87ab-4e33-d6c6-b7fb2320e177"
      },
      "execution_count": 3,
      "outputs": [
        {
          "output_type": "display_data",
          "data": {
            "text/plain": [
              "<Figure size 500x300 with 1 Axes>"
            ],
            "image/png": "[encoded data removed]"
          },
          "metadata": {}
        }
      ]
    },
    {
      "cell_type": "code",
      "source": [
        "len(time)"
      ],
      "metadata": {
        "colab": {
          "base_uri": "https://localhost:8080/"
        },
        "id": "wQBtf3TGfM5j",
        "outputId": "20f19c38-2aa1-4919-ae8a-0a48d8830166"
      },
      "execution_count": 4,
      "outputs": [
        {
          "output_type": "execute_result",
          "data": {
            "text/plain": [
              "3080"
            ]
          },
          "metadata": {},
          "execution_count": 4
        }
      ]
    },
    {
      "cell_type": "code",
      "source": [
        "\"\"\" Split the Dataset \"\"\"\n",
        "split_time = 2500  # total number of stock price dataset is 3080\n",
        "\n",
        "# get the train set\n",
        "time_train = time[:split_time]\n",
        "x_train = series[:split_time]\n",
        "\n",
        "# get the validation set\n",
        "time_valid = time[split_time:]\n",
        "x_valid = series[split_time:]"
      ],
      "metadata": {
        "id": "fQRI3j-kfY1f"
      },
      "execution_count": 5,
      "outputs": []
    },
    {
      "cell_type": "code",
      "source": [
        "\"\"\" Prepare Features and Labels \"\"\"\n",
        "def windowed_dataset(series, window_size, batch_size, shuffle_buffer):\n",
        "    \"\"\"\n",
        "    Generates dataset windows\n",
        "\n",
        "    Args:\n",
        "      series (array of float) - contains the values of the time series\n",
        "      window_size (int) - the number of time steps to include in the feature\n",
        "      batch_size (int) - the batch size\n",
        "      shuffle_buffer(int) - buffer size to use for the shuffle method\n",
        "\n",
        "    Returns:\n",
        "      dataset (TF Dataset) - TF Dataset containing time windows\n",
        "    \"\"\"\n",
        "\n",
        "    # Generate a TF Dataset from the series values\n",
        "    dataset = tf.data.Dataset.from_tensor_slices(series)\n",
        "\n",
        "    # Window the data and only take those with the specified size\n",
        "    dataset = dataset.window(window_size+1, shift=1, drop_remainder=True)\n",
        "\n",
        "    # Flatten the windows by putting its elements in a single batch\n",
        "    dataset = dataset.flat_map(lambda window: window.batch(window_size + 1))\n",
        "\n",
        "    # Create tuples with features and labels\n",
        "    dataset = dataset.map(lambda window: (window[:-1], window[-1]))\n",
        "\n",
        "    # Shuffle the windows\n",
        "    dataset = dataset.shuffle(shuffle_buffer)\n",
        "\n",
        "    # Create batches of windows\n",
        "    dataset = dataset.batch(batch_size).prefetch(1)\n",
        "\n",
        "    return dataset"
      ],
      "metadata": {
        "id": "gH-OU_tonY5W"
      },
      "execution_count": 6,
      "outputs": []
    },
    {
      "cell_type": "code",
      "source": [
        "# Parameters\n",
        "window_size = 20\n",
        "batch_size = 12\n",
        "shuffle_buffer_size = 1000\n",
        "\n",
        "# Generate the dataset windows\n",
        "train_set = windowed_dataset(x_train, window_size, batch_size, shuffle_buffer_size)"
      ],
      "metadata": {
        "id": "nHWMOGrTuQac"
      },
      "execution_count": 7,
      "outputs": []
    },
    {
      "cell_type": "code",
      "source": [
        "\"\"\" Build the Model \"\"\"\n",
        "model = tf.keras.models.Sequential([\n",
        "    tf.keras.layers.Conv1D(filters=64,\n",
        "                           kernel_size=3,\n",
        "                           activation='relu',\n",
        "                           padding='causal',\n",
        "                           input_shape=[window_size, 1]),\n",
        "    tf.keras.layers.LSTM(64, return_sequences=True),\n",
        "    tf.keras.layers.LSTM(64),\n",
        "    tf.keras.layers.Dense(30, activation=\"relu\"),\n",
        "    tf.keras.layers.Dense(10, activation=\"relu\"),\n",
        "    tf.keras.layers.Dense(1),\n",
        "    tf.keras.layers.Lambda(lambda x: x * 800)\n",
        "])\n",
        "\n",
        "# Report the model summary\n",
        "model.summary()"
      ],
      "metadata": {
        "colab": {
          "base_uri": "https://localhost:8080/"
        },
        "id": "spOeTRn2rzhf",
        "outputId": "7a70a998-22c1-4b40-b9a1-b7c50de49017"
      },
      "execution_count": 8,
      "outputs": [
        {
          "output_type": "stream",
          "name": "stdout",
          "text": [
            "Model: \"sequential\"\n",
            "_________________________________________________________________\n",
            " Layer (type)                Output Shape              Param #   \n",
            "=================================================================\n",
            " conv1d (Conv1D)             (None, 20, 64)            256       \n",
            "                                                                 \n",
            " lstm (LSTM)                 (None, 20, 64)            33024     \n",
            "                                                                 \n",
            " lstm_1 (LSTM)               (None, 64)                33024     \n",
            "                                                                 \n",
            " dense (Dense)               (None, 30)                1950      \n",
            "                                                                 \n",
            " dense_1 (Dense)             (None, 10)                310       \n",
            "                                                                 \n",
            " dense_2 (Dense)             (None, 1)                 11        \n",
            "                                                                 \n",
            " lambda (Lambda)             (None, 1)                 0         \n",
            "                                                                 \n",
            "=================================================================\n",
            "Total params: 68,575\n",
            "Trainable params: 68,575\n",
            "Non-trainable params: 0\n",
            "_________________________________________________________________\n"
          ]
        }
      ]
    },
    {
      "cell_type": "code",
      "source": [
        "\"\"\" Tune the Learning Rate \"\"\"\n",
        "init_weights = model.get_weights()"
      ],
      "metadata": {
        "id": "oO9DtGOjz33g"
      },
      "execution_count": 9,
      "outputs": []
    },
    {
      "cell_type": "code",
      "source": [
        "# Trial training the model to get an optimal learning rate by arranging\n",
        "# a learning rate scheduler callback first\n",
        "lr_schedule = tf.keras.callbacks.LearningRateScheduler(\n",
        "    lambda epoch: 1e-8 * 10**(epoch / 20))\n",
        "\n",
        "# Initialize the optimizer\n",
        "optimizer = tf.keras.optimizers.SGD(momentum=0.9)\n",
        "\n",
        "# Set the training parameters\n",
        "model.compile(loss=tf.keras.losses.Huber(),\n",
        "              optimizer=optimizer,\n",
        "              metrics=['accuracy'])\n",
        "\n",
        "# Train the model\n",
        "history = model.fit(train_set, epochs=100, callbacks=[lr_schedule])"
      ],
      "metadata": {
        "colab": {
          "base_uri": "https://localhost:8080/"
        },
        "id": "4c74Mles7rud",
        "outputId": "aec06e6b-fc7e-46bd-eb4c-040357da3388"
      },
      "execution_count": 10,
      "outputs": [
        {
          "output_type": "stream",
          "name": "stdout",
          "text": [
            "Epoch 1/100\n",
            "207/207 [==============================] - 21s 9ms/step - loss: 245.5411 - accuracy: 0.0000e+00 - lr: 1.0000e-08\n",
            "Epoch 2/100\n",
            "207/207 [==============================] - 2s 8ms/step - loss: 158.0811 - accuracy: 0.0000e+00 - lr: 1.1220e-08\n",
            "Epoch 3/100\n",
            "207/207 [==============================] - 2s 8ms/step - loss: 99.7840 - accuracy: 0.0000e+00 - lr: 1.2589e-08\n",
            "Epoch 4/100\n",
            "207/207 [==============================] - 2s 10ms/step - loss: 74.3595 - accuracy: 0.0000e+00 - lr: 1.4125e-08\n",
            "Epoch 5/100\n",
            "207/207 [==============================] - 2s 11ms/step - loss: 67.3337 - accuracy: 0.0000e+00 - lr: 1.5849e-08\n",
            "Epoch 6/100\n",
            "207/207 [==============================] - 2s 8ms/step - loss: 54.9521 - accuracy: 0.0000e+00 - lr: 1.7783e-08\n",
            "Epoch 7/100\n",
            "207/207 [==============================] - 2s 8ms/step - loss: 44.6594 - accuracy: 0.0000e+00 - lr: 1.9953e-08\n",
            "Epoch 8/100\n",
            "207/207 [==============================] - 2s 8ms/step - loss: 35.2241 - accuracy: 0.0000e+00 - lr: 2.2387e-08\n",
            "Epoch 9/100\n",
            "207/207 [==============================] - 2s 8ms/step - loss: 28.3139 - accuracy: 0.0000e+00 - lr: 2.5119e-08\n",
            "Epoch 10/100\n",
            "207/207 [==============================] - 2s 8ms/step - loss: 24.0857 - accuracy: 0.0000e+00 - lr: 2.8184e-08\n",
            "Epoch 11/100\n",
            "207/207 [==============================] - 2s 11ms/step - loss: 21.7988 - accuracy: 0.0000e+00 - lr: 3.1623e-08\n",
            "Epoch 12/100\n",
            "207/207 [==============================] - 2s 11ms/step - loss: 20.2354 - accuracy: 0.0000e+00 - lr: 3.5481e-08\n",
            "Epoch 13/100\n",
            "207/207 [==============================] - 2s 8ms/step - loss: 18.7261 - accuracy: 0.0000e+00 - lr: 3.9811e-08\n",
            "Epoch 14/100\n",
            "207/207 [==============================] - 2s 8ms/step - loss: 16.9747 - accuracy: 0.0000e+00 - lr: 4.4668e-08\n",
            "Epoch 15/100\n",
            "207/207 [==============================] - 2s 8ms/step - loss: 15.7124 - accuracy: 0.0000e+00 - lr: 5.0119e-08\n",
            "Epoch 16/100\n",
            "207/207 [==============================] - 2s 9ms/step - loss: 15.0145 - accuracy: 0.0000e+00 - lr: 5.6234e-08\n",
            "Epoch 17/100\n",
            "207/207 [==============================] - 2s 9ms/step - loss: 13.7896 - accuracy: 0.0000e+00 - lr: 6.3096e-08\n",
            "Epoch 18/100\n",
            "207/207 [==============================] - 3s 12ms/step - loss: 12.8034 - accuracy: 0.0000e+00 - lr: 7.0795e-08\n",
            "Epoch 19/100\n",
            "207/207 [==============================] - 2s 8ms/step - loss: 11.8216 - accuracy: 0.0000e+00 - lr: 7.9433e-08\n",
            "Epoch 20/100\n",
            "207/207 [==============================] - 2s 8ms/step - loss: 11.6403 - accuracy: 0.0000e+00 - lr: 8.9125e-08\n",
            "Epoch 21/100\n",
            "207/207 [==============================] - 2s 8ms/step - loss: 10.4123 - accuracy: 0.0000e+00 - lr: 1.0000e-07\n",
            "Epoch 22/100\n",
            "207/207 [==============================] - 2s 8ms/step - loss: 9.8525 - accuracy: 0.0000e+00 - lr: 1.1220e-07\n",
            "Epoch 23/100\n",
            "207/207 [==============================] - 2s 9ms/step - loss: 9.8776 - accuracy: 0.0000e+00 - lr: 1.2589e-07\n",
            "Epoch 24/100\n",
            "207/207 [==============================] - 3s 11ms/step - loss: 10.4087 - accuracy: 0.0000e+00 - lr: 1.4125e-07\n",
            "Epoch 25/100\n",
            "207/207 [==============================] - 2s 8ms/step - loss: 8.4677 - accuracy: 0.0000e+00 - lr: 1.5849e-07\n",
            "Epoch 26/100\n",
            "207/207 [==============================] - 2s 8ms/step - loss: 10.1822 - accuracy: 0.0000e+00 - lr: 1.7783e-07\n",
            "Epoch 27/100\n",
            "207/207 [==============================] - 2s 8ms/step - loss: 10.6921 - accuracy: 0.0000e+00 - lr: 1.9953e-07\n",
            "Epoch 28/100\n",
            "207/207 [==============================] - 2s 8ms/step - loss: 12.2070 - accuracy: 0.0000e+00 - lr: 2.2387e-07\n",
            "Epoch 29/100\n",
            "207/207 [==============================] - 2s 8ms/step - loss: 11.4888 - accuracy: 0.0000e+00 - lr: 2.5119e-07\n",
            "Epoch 30/100\n",
            "207/207 [==============================] - 3s 12ms/step - loss: 11.9185 - accuracy: 0.0000e+00 - lr: 2.8184e-07\n",
            "Epoch 31/100\n",
            "207/207 [==============================] - 2s 8ms/step - loss: 11.4978 - accuracy: 0.0000e+00 - lr: 3.1623e-07\n",
            "Epoch 32/100\n",
            "207/207 [==============================] - 2s 8ms/step - loss: 17.0311 - accuracy: 0.0000e+00 - lr: 3.5481e-07\n",
            "Epoch 33/100\n",
            "207/207 [==============================] - 2s 8ms/step - loss: 19.5706 - accuracy: 0.0000e+00 - lr: 3.9811e-07\n",
            "Epoch 34/100\n",
            "207/207 [==============================] - 2s 8ms/step - loss: 19.8704 - accuracy: 0.0000e+00 - lr: 4.4668e-07\n",
            "Epoch 35/100\n",
            "207/207 [==============================] - 2s 10ms/step - loss: 18.7938 - accuracy: 0.0000e+00 - lr: 5.0119e-07\n",
            "Epoch 36/100\n",
            "207/207 [==============================] - 3s 12ms/step - loss: 14.7572 - accuracy: 0.0000e+00 - lr: 5.6234e-07\n",
            "Epoch 37/100\n",
            "207/207 [==============================] - 2s 8ms/step - loss: 20.4602 - accuracy: 0.0000e+00 - lr: 6.3096e-07\n",
            "Epoch 38/100\n",
            "207/207 [==============================] - 2s 8ms/step - loss: 16.4656 - accuracy: 0.0000e+00 - lr: 7.0795e-07\n",
            "Epoch 39/100\n",
            "207/207 [==============================] - 2s 8ms/step - loss: 16.8352 - accuracy: 0.0000e+00 - lr: 7.9433e-07\n",
            "Epoch 40/100\n",
            "207/207 [==============================] - 2s 8ms/step - loss: 18.7271 - accuracy: 0.0000e+00 - lr: 8.9125e-07\n",
            "Epoch 41/100\n",
            "207/207 [==============================] - 3s 12ms/step - loss: 16.5077 - accuracy: 0.0000e+00 - lr: 1.0000e-06\n",
            "Epoch 42/100\n",
            "207/207 [==============================] - 3s 15ms/step - loss: 28.2748 - accuracy: 0.0000e+00 - lr: 1.1220e-06\n",
            "Epoch 43/100\n",
            "207/207 [==============================] - 2s 10ms/step - loss: 30.9828 - accuracy: 0.0000e+00 - lr: 1.2589e-06\n",
            "Epoch 44/100\n",
            "207/207 [==============================] - 2s 8ms/step - loss: 27.7448 - accuracy: 0.0000e+00 - lr: 1.4125e-06\n",
            "Epoch 45/100\n",
            "207/207 [==============================] - 2s 8ms/step - loss: 27.6425 - accuracy: 0.0000e+00 - lr: 1.5849e-06\n",
            "Epoch 46/100\n",
            "207/207 [==============================] - 2s 8ms/step - loss: 26.5425 - accuracy: 0.0000e+00 - lr: 1.7783e-06\n",
            "Epoch 47/100\n",
            "207/207 [==============================] - 2s 12ms/step - loss: 19.8179 - accuracy: 0.0000e+00 - lr: 1.9953e-06\n",
            "Epoch 48/100\n",
            "207/207 [==============================] - 2s 11ms/step - loss: 19.3215 - accuracy: 0.0000e+00 - lr: 2.2387e-06\n",
            "Epoch 49/100\n",
            "207/207 [==============================] - 2s 8ms/step - loss: 27.4059 - accuracy: 0.0000e+00 - lr: 2.5119e-06\n",
            "Epoch 50/100\n",
            "207/207 [==============================] - 2s 8ms/step - loss: 26.9695 - accuracy: 0.0000e+00 - lr: 2.8184e-06\n",
            "Epoch 51/100\n",
            "207/207 [==============================] - 2s 8ms/step - loss: 13.5605 - accuracy: 0.0000e+00 - lr: 3.1623e-06\n",
            "Epoch 52/100\n",
            "207/207 [==============================] - 2s 8ms/step - loss: 23.2537 - accuracy: 0.0000e+00 - lr: 3.5481e-06\n",
            "Epoch 53/100\n",
            "207/207 [==============================] - 2s 8ms/step - loss: 18.8507 - accuracy: 0.0000e+00 - lr: 3.9811e-06\n",
            "Epoch 54/100\n",
            "207/207 [==============================] - 2s 11ms/step - loss: 18.9314 - accuracy: 0.0000e+00 - lr: 4.4668e-06\n",
            "Epoch 55/100\n",
            "207/207 [==============================] - 2s 11ms/step - loss: 28.9302 - accuracy: 0.0000e+00 - lr: 5.0119e-06\n",
            "Epoch 56/100\n",
            "207/207 [==============================] - 2s 8ms/step - loss: 39.2068 - accuracy: 0.0000e+00 - lr: 5.6234e-06\n",
            "Epoch 57/100\n",
            "207/207 [==============================] - 2s 8ms/step - loss: 67.8373 - accuracy: 0.0000e+00 - lr: 6.3096e-06\n",
            "Epoch 58/100\n",
            "207/207 [==============================] - 2s 8ms/step - loss: 70.9947 - accuracy: 0.0000e+00 - lr: 7.0795e-06\n",
            "Epoch 59/100\n",
            "207/207 [==============================] - 2s 8ms/step - loss: 69.0812 - accuracy: 0.0000e+00 - lr: 7.9433e-06\n",
            "Epoch 60/100\n",
            "207/207 [==============================] - 2s 8ms/step - loss: 69.3702 - accuracy: 0.0000e+00 - lr: 8.9125e-06\n",
            "Epoch 61/100\n",
            "207/207 [==============================] - 2s 11ms/step - loss: 70.6537 - accuracy: 0.0000e+00 - lr: 1.0000e-05\n",
            "Epoch 62/100\n",
            "207/207 [==============================] - 3s 11ms/step - loss: 67.8196 - accuracy: 0.0000e+00 - lr: 1.1220e-05\n",
            "Epoch 63/100\n",
            "207/207 [==============================] - 2s 8ms/step - loss: 70.6183 - accuracy: 0.0000e+00 - lr: 1.2589e-05\n",
            "Epoch 64/100\n",
            "207/207 [==============================] - 2s 9ms/step - loss: 71.4723 - accuracy: 0.0000e+00 - lr: 1.4125e-05\n",
            "Epoch 65/100\n",
            "207/207 [==============================] - 2s 8ms/step - loss: 71.5376 - accuracy: 0.0000e+00 - lr: 1.5849e-05\n",
            "Epoch 66/100\n",
            "207/207 [==============================] - 2s 8ms/step - loss: 72.0441 - accuracy: 0.0000e+00 - lr: 1.7783e-05\n",
            "Epoch 67/100\n",
            "207/207 [==============================] - 2s 9ms/step - loss: 70.6309 - accuracy: 0.0000e+00 - lr: 1.9953e-05\n",
            "Epoch 68/100\n",
            "207/207 [==============================] - 3s 12ms/step - loss: 71.7153 - accuracy: 0.0000e+00 - lr: 2.2387e-05\n",
            "Epoch 69/100\n",
            "207/207 [==============================] - 2s 8ms/step - loss: 71.7794 - accuracy: 0.0000e+00 - lr: 2.5119e-05\n",
            "Epoch 70/100\n",
            "207/207 [==============================] - 2s 8ms/step - loss: 69.1928 - accuracy: 0.0000e+00 - lr: 2.8184e-05\n",
            "Epoch 71/100\n",
            "207/207 [==============================] - 2s 8ms/step - loss: 70.9863 - accuracy: 0.0000e+00 - lr: 3.1623e-05\n",
            "Epoch 72/100\n",
            "207/207 [==============================] - 2s 8ms/step - loss: 71.5292 - accuracy: 0.0000e+00 - lr: 3.5481e-05\n",
            "Epoch 73/100\n",
            "207/207 [==============================] - 2s 9ms/step - loss: 73.0757 - accuracy: 0.0000e+00 - lr: 3.9811e-05\n",
            "Epoch 74/100\n",
            "207/207 [==============================] - 2s 11ms/step - loss: 75.4933 - accuracy: 0.0000e+00 - lr: 4.4668e-05\n",
            "Epoch 75/100\n",
            "207/207 [==============================] - 2s 8ms/step - loss: 76.2186 - accuracy: 0.0000e+00 - lr: 5.0119e-05\n",
            "Epoch 76/100\n",
            "207/207 [==============================] - 2s 8ms/step - loss: 78.1446 - accuracy: 0.0000e+00 - lr: 5.6234e-05\n",
            "Epoch 77/100\n",
            "207/207 [==============================] - 2s 8ms/step - loss: 74.6736 - accuracy: 0.0000e+00 - lr: 6.3096e-05\n",
            "Epoch 78/100\n",
            "207/207 [==============================] - 2s 8ms/step - loss: 72.8109 - accuracy: 0.0000e+00 - lr: 7.0795e-05\n",
            "Epoch 79/100\n",
            "207/207 [==============================] - 2s 8ms/step - loss: 80.0706 - accuracy: 0.0000e+00 - lr: 7.9433e-05\n",
            "Epoch 80/100\n",
            "207/207 [==============================] - 2s 11ms/step - loss: 76.6017 - accuracy: 0.0000e+00 - lr: 8.9125e-05\n",
            "Epoch 81/100\n",
            "207/207 [==============================] - 2s 10ms/step - loss: 77.7132 - accuracy: 0.0000e+00 - lr: 1.0000e-04\n",
            "Epoch 82/100\n",
            "207/207 [==============================] - 2s 8ms/step - loss: 86.1288 - accuracy: 0.0000e+00 - lr: 1.1220e-04\n",
            "Epoch 83/100\n",
            "207/207 [==============================] - 2s 8ms/step - loss: 80.8349 - accuracy: 0.0000e+00 - lr: 1.2589e-04\n",
            "Epoch 84/100\n",
            "207/207 [==============================] - 2s 8ms/step - loss: 92.3692 - accuracy: 0.0000e+00 - lr: 1.4125e-04\n",
            "Epoch 85/100\n",
            "207/207 [==============================] - 2s 8ms/step - loss: 105.8335 - accuracy: 0.0000e+00 - lr: 1.5849e-04\n",
            "Epoch 86/100\n",
            "207/207 [==============================] - 2s 10ms/step - loss: 103.2575 - accuracy: 0.0000e+00 - lr: 1.7783e-04\n",
            "Epoch 87/100\n",
            "207/207 [==============================] - 2s 11ms/step - loss: 107.2281 - accuracy: 0.0000e+00 - lr: 1.9953e-04\n",
            "Epoch 88/100\n",
            "207/207 [==============================] - 2s 8ms/step - loss: 168.0372 - accuracy: 0.0000e+00 - lr: 2.2387e-04\n",
            "Epoch 89/100\n",
            "207/207 [==============================] - 2s 8ms/step - loss: 120.6007 - accuracy: 0.0000e+00 - lr: 2.5119e-04\n",
            "Epoch 90/100\n",
            "207/207 [==============================] - 2s 8ms/step - loss: 164.5844 - accuracy: 0.0000e+00 - lr: 2.8184e-04\n",
            "Epoch 91/100\n",
            "207/207 [==============================] - 2s 8ms/step - loss: 146.6949 - accuracy: 0.0000e+00 - lr: 3.1623e-04\n",
            "Epoch 92/100\n",
            "207/207 [==============================] - 2s 8ms/step - loss: 148.2953 - accuracy: 0.0000e+00 - lr: 3.5481e-04\n",
            "Epoch 93/100\n",
            "207/207 [==============================] - 2s 12ms/step - loss: 147.5914 - accuracy: 0.0000e+00 - lr: 3.9811e-04\n",
            "Epoch 94/100\n",
            "207/207 [==============================] - 2s 10ms/step - loss: 207.5272 - accuracy: 0.0000e+00 - lr: 4.4668e-04\n",
            "Epoch 95/100\n",
            "207/207 [==============================] - 2s 8ms/step - loss: 369.9903 - accuracy: 0.0000e+00 - lr: 5.0119e-04\n",
            "Epoch 96/100\n",
            "207/207 [==============================] - 2s 8ms/step - loss: 265.1948 - accuracy: 0.0000e+00 - lr: 5.6234e-04\n",
            "Epoch 97/100\n",
            "207/207 [==============================] - 2s 8ms/step - loss: 364.8294 - accuracy: 0.0000e+00 - lr: 6.3096e-04\n",
            "Epoch 98/100\n",
            "207/207 [==============================] - 2s 8ms/step - loss: 295.3259 - accuracy: 0.0000e+00 - lr: 7.0795e-04\n",
            "Epoch 99/100\n",
            "207/207 [==============================] - 2s 8ms/step - loss: 448.8701 - accuracy: 0.0000e+00 - lr: 7.9433e-04\n",
            "Epoch 100/100\n",
            "207/207 [==============================] - 2s 10ms/step - loss: 318.5471 - accuracy: 0.0000e+00 - lr: 8.9125e-04\n"
          ]
        }
      ]
    },
    {
      "cell_type": "code",
      "source": [
        "# Define the learning rate array\n",
        "lrs = 1e-8 * (10 ** (np.arange(100) / 20))\n",
        "# Set the figure size\n",
        "plt.figure(figsize=(5, 3))\n",
        "# Set the grid\n",
        "plt.grid(True)\n",
        "# Plot the loss in log scale\n",
        "plt.semilogx(lrs, history.history[\"loss\"])\n",
        "# Increase the tickmarks size\n",
        "plt.tick_params('both', length=10, width=1, which='both')\n",
        "# Set the plot boundaries\n",
        "plt.axis([1e-8, 1e-3, 0, 500])"
      ],
      "metadata": {
        "colab": {
          "base_uri": "https://localhost:8080/",
          "height": 327
        },
        "id": "T1FFsPs6AAvF",
        "outputId": "5f6e7287-f992-4ca7-9215-a565172a39d9"
      },
      "execution_count": 11,
      "outputs": [
        {
          "output_type": "execute_result",
          "data": {
            "text/plain": [
              "(1e-08, 0.001, 0.0, 500.0)"
            ]
          },
          "metadata": {},
          "execution_count": 11
        },
        {
          "output_type": "display_data",
          "data": {
            "text/plain": [
              "<Figure size 500x300 with 1 Axes>"
            ],
            "image/png": "[encoded data removed]"
          },
          "metadata": {}
        }
      ]
    },
    {
      "cell_type": "code",
      "source": [
        "\"\"\"\n",
        "Retrain the model by adjusting the learning rate based on the above experiment\n",
        "\"\"\"\n",
        "# Reset states generated by Keras\n",
        "tf.keras.backend.clear_session()\n",
        "\n",
        "# Reset the weights\n",
        "model.set_weights(init_weights)"
      ],
      "metadata": {
        "id": "W0_cn4JILWrr"
      },
      "execution_count": 12,
      "outputs": []
    },
    {
      "cell_type": "code",
      "source": [
        "# Set the learning rate\n",
        "learning_rate = 1e-7\n",
        "\n",
        "# Set the optimizer\n",
        "optimizer = tf.keras.optimizers.SGD(learning_rate=learning_rate, momentum=0.9)\n",
        "\n",
        "# Set the training parameters\n",
        "model.compile(loss=tf.keras.losses.Huber(),\n",
        "              optimizer=optimizer,\n",
        "              metrics=[\"mae\"])\n",
        "\n",
        "# Train the model\n",
        "history = model.fit(train_set, epochs=100)"
      ],
      "metadata": {
        "colab": {
          "base_uri": "https://localhost:8080/"
        },
        "id": "1p0RaKi5LuHB",
        "outputId": "c1cd7a90-74cb-4d09-eab5-d41bea52b39a"
      },
      "execution_count": 13,
      "outputs": [
        {
          "output_type": "stream",
          "name": "stdout",
          "text": [
            "Epoch 1/100\n",
            "207/207 [==============================] - 6s 7ms/step - loss: 94.5805 - mae: 95.0796\n",
            "Epoch 2/100\n",
            "207/207 [==============================] - 2s 8ms/step - loss: 41.1171 - mae: 41.6088\n",
            "Epoch 3/100\n",
            "207/207 [==============================] - 2s 8ms/step - loss: 19.7677 - mae: 20.2497\n",
            "Epoch 4/100\n",
            "207/207 [==============================] - 2s 8ms/step - loss: 16.6144 - mae: 17.0958\n",
            "Epoch 5/100\n",
            "207/207 [==============================] - 2s 11ms/step - loss: 15.1027 - mae: 15.5843\n",
            "Epoch 6/100\n",
            "207/207 [==============================] - 2s 10ms/step - loss: 13.4486 - mae: 13.9285\n",
            "Epoch 7/100\n",
            "207/207 [==============================] - 2s 8ms/step - loss: 12.3349 - mae: 12.8139\n",
            "Epoch 8/100\n",
            "207/207 [==============================] - 2s 8ms/step - loss: 12.2820 - mae: 12.7644\n",
            "Epoch 9/100\n",
            "207/207 [==============================] - 2s 8ms/step - loss: 10.6242 - mae: 11.1044\n",
            "Epoch 10/100\n",
            "207/207 [==============================] - 2s 8ms/step - loss: 8.7973 - mae: 9.2707\n",
            "Epoch 11/100\n",
            "207/207 [==============================] - 2s 8ms/step - loss: 8.9914 - mae: 9.4667\n",
            "Epoch 12/100\n",
            "207/207 [==============================] - 2s 9ms/step - loss: 8.8787 - mae: 9.3602\n",
            "Epoch 13/100\n",
            "207/207 [==============================] - 3s 11ms/step - loss: 8.7244 - mae: 9.2043\n",
            "Epoch 14/100\n",
            "207/207 [==============================] - 2s 8ms/step - loss: 7.4806 - mae: 7.9597\n",
            "Epoch 15/100\n",
            "207/207 [==============================] - 2s 8ms/step - loss: 7.8115 - mae: 8.2880\n",
            "Epoch 16/100\n",
            "207/207 [==============================] - 2s 8ms/step - loss: 6.6573 - mae: 7.1265\n",
            "Epoch 17/100\n",
            "207/207 [==============================] - 2s 8ms/step - loss: 7.7581 - mae: 8.2363\n",
            "Epoch 18/100\n",
            "207/207 [==============================] - 2s 8ms/step - loss: 9.4137 - mae: 9.8950\n",
            "Epoch 19/100\n",
            "207/207 [==============================] - 2s 11ms/step - loss: 7.4170 - mae: 7.8919\n",
            "Epoch 20/100\n",
            "207/207 [==============================] - 2s 11ms/step - loss: 6.9860 - mae: 7.4634\n",
            "Epoch 21/100\n",
            "207/207 [==============================] - 2s 8ms/step - loss: 6.6180 - mae: 7.0896\n",
            "Epoch 22/100\n",
            "207/207 [==============================] - 2s 8ms/step - loss: 7.7724 - mae: 8.2494\n",
            "Epoch 23/100\n",
            "207/207 [==============================] - 2s 8ms/step - loss: 6.9895 - mae: 7.4631\n",
            "Epoch 24/100\n",
            "207/207 [==============================] - 2s 8ms/step - loss: 7.0233 - mae: 7.5026\n",
            "Epoch 25/100\n",
            "207/207 [==============================] - 2s 8ms/step - loss: 8.7714 - mae: 9.2507\n",
            "Epoch 26/100\n",
            "207/207 [==============================] - 2s 10ms/step - loss: 7.5777 - mae: 8.0552\n",
            "Epoch 27/100\n",
            "207/207 [==============================] - 2s 11ms/step - loss: 8.8973 - mae: 9.3780\n",
            "Epoch 28/100\n",
            "207/207 [==============================] - 2s 8ms/step - loss: 8.5047 - mae: 8.9815\n",
            "Epoch 29/100\n",
            "207/207 [==============================] - 2s 8ms/step - loss: 7.9852 - mae: 8.4623\n",
            "Epoch 30/100\n",
            "207/207 [==============================] - 2s 8ms/step - loss: 9.0504 - mae: 9.5318\n",
            "Epoch 31/100\n",
            "207/207 [==============================] - 2s 8ms/step - loss: 6.1024 - mae: 6.5748\n",
            "Epoch 32/100\n",
            "207/207 [==============================] - 2s 8ms/step - loss: 5.8094 - mae: 6.2819\n",
            "Epoch 33/100\n",
            "207/207 [==============================] - 2s 11ms/step - loss: 7.6700 - mae: 8.1475\n",
            "Epoch 34/100\n",
            "207/207 [==============================] - 2s 11ms/step - loss: 7.6938 - mae: 8.1715\n",
            "Epoch 35/100\n",
            "207/207 [==============================] - 2s 8ms/step - loss: 6.8145 - mae: 7.2937\n",
            "Epoch 36/100\n",
            "207/207 [==============================] - 2s 8ms/step - loss: 6.3937 - mae: 6.8712\n",
            "Epoch 37/100\n",
            "207/207 [==============================] - 2s 8ms/step - loss: 5.7191 - mae: 6.1916\n",
            "Epoch 38/100\n",
            "207/207 [==============================] - 2s 8ms/step - loss: 7.9058 - mae: 8.3886\n",
            "Epoch 39/100\n",
            "207/207 [==============================] - 2s 8ms/step - loss: 9.5792 - mae: 10.0539\n",
            "Epoch 40/100\n",
            "207/207 [==============================] - 2s 11ms/step - loss: 5.5367 - mae: 6.0071\n",
            "Epoch 41/100\n",
            "207/207 [==============================] - 2s 10ms/step - loss: 5.8660 - mae: 6.3391\n",
            "Epoch 42/100\n",
            "207/207 [==============================] - 2s 8ms/step - loss: 7.2433 - mae: 7.7173\n",
            "Epoch 43/100\n",
            "207/207 [==============================] - 2s 8ms/step - loss: 5.9316 - mae: 6.4054\n",
            "Epoch 44/100\n",
            "207/207 [==============================] - 2s 8ms/step - loss: 5.7962 - mae: 6.2671\n",
            "Epoch 45/100\n",
            "207/207 [==============================] - 2s 8ms/step - loss: 6.6158 - mae: 7.0876\n",
            "Epoch 46/100\n",
            "207/207 [==============================] - 2s 8ms/step - loss: 6.2580 - mae: 6.7293\n",
            "Epoch 47/100\n",
            "207/207 [==============================] - 2s 11ms/step - loss: 6.5863 - mae: 7.0597\n",
            "Epoch 48/100\n",
            "207/207 [==============================] - 2s 9ms/step - loss: 5.6297 - mae: 6.0998\n",
            "Epoch 49/100\n",
            "207/207 [==============================] - 2s 8ms/step - loss: 6.5195 - mae: 6.9952\n",
            "Epoch 50/100\n",
            "207/207 [==============================] - 2s 8ms/step - loss: 6.7345 - mae: 7.2113\n",
            "Epoch 51/100\n",
            "207/207 [==============================] - 2s 8ms/step - loss: 7.4247 - mae: 7.9036\n",
            "Epoch 52/100\n",
            "207/207 [==============================] - 2s 8ms/step - loss: 6.0935 - mae: 6.5711\n",
            "Epoch 53/100\n",
            "207/207 [==============================] - 2s 8ms/step - loss: 5.8323 - mae: 6.3046\n",
            "Epoch 54/100\n",
            "207/207 [==============================] - 3s 12ms/step - loss: 5.6994 - mae: 6.1720\n",
            "Epoch 55/100\n",
            "207/207 [==============================] - 2s 9ms/step - loss: 7.9325 - mae: 8.4065\n",
            "Epoch 56/100\n",
            "207/207 [==============================] - 3s 14ms/step - loss: 7.0562 - mae: 7.5368\n",
            "Epoch 57/100\n",
            "207/207 [==============================] - 4s 16ms/step - loss: 5.4568 - mae: 5.9286\n",
            "Epoch 58/100\n",
            "207/207 [==============================] - 4s 19ms/step - loss: 7.4541 - mae: 7.9298\n",
            "Epoch 59/100\n",
            "207/207 [==============================] - 3s 15ms/step - loss: 5.6057 - mae: 6.0771\n",
            "Epoch 60/100\n",
            "207/207 [==============================] - 3s 14ms/step - loss: 5.0228 - mae: 5.4918\n",
            "Epoch 61/100\n",
            "207/207 [==============================] - 3s 15ms/step - loss: 6.6337 - mae: 7.1096\n",
            "Epoch 62/100\n",
            "207/207 [==============================] - 2s 10ms/step - loss: 5.8246 - mae: 6.2935\n",
            "Epoch 63/100\n",
            "207/207 [==============================] - 2s 8ms/step - loss: 5.7433 - mae: 6.2145\n",
            "Epoch 64/100\n",
            "207/207 [==============================] - 2s 8ms/step - loss: 5.2683 - mae: 5.7413\n",
            "Epoch 65/100\n",
            "207/207 [==============================] - 2s 8ms/step - loss: 6.8618 - mae: 7.3347\n",
            "Epoch 66/100\n",
            "207/207 [==============================] - 2s 8ms/step - loss: 4.8432 - mae: 5.3117\n",
            "Epoch 67/100\n",
            "207/207 [==============================] - 2s 11ms/step - loss: 5.2290 - mae: 5.7009\n",
            "Epoch 68/100\n",
            "207/207 [==============================] - 2s 9ms/step - loss: 6.3352 - mae: 6.8062\n",
            "Epoch 69/100\n",
            "207/207 [==============================] - 2s 8ms/step - loss: 4.8431 - mae: 5.3096\n",
            "Epoch 70/100\n",
            "207/207 [==============================] - 2s 8ms/step - loss: 4.4398 - mae: 4.9036\n",
            "Epoch 71/100\n",
            "207/207 [==============================] - 2s 8ms/step - loss: 5.1552 - mae: 5.6241\n",
            "Epoch 72/100\n",
            "207/207 [==============================] - 2s 8ms/step - loss: 6.5172 - mae: 6.9933\n",
            "Epoch 73/100\n",
            "207/207 [==============================] - 2s 9ms/step - loss: 4.9573 - mae: 5.4295\n",
            "Epoch 74/100\n",
            "207/207 [==============================] - 2s 10ms/step - loss: 5.4984 - mae: 5.9664\n",
            "Epoch 75/100\n",
            "207/207 [==============================] - 2s 8ms/step - loss: 5.0289 - mae: 5.4978\n",
            "Epoch 76/100\n",
            "207/207 [==============================] - 2s 8ms/step - loss: 5.0232 - mae: 5.4914\n",
            "Epoch 77/100\n",
            "207/207 [==============================] - 2s 8ms/step - loss: 4.7062 - mae: 5.1719\n",
            "Epoch 78/100\n",
            "207/207 [==============================] - 2s 8ms/step - loss: 5.3243 - mae: 5.7942\n",
            "Epoch 79/100\n",
            "207/207 [==============================] - 2s 8ms/step - loss: 4.5913 - mae: 5.0549\n",
            "Epoch 80/100\n",
            "207/207 [==============================] - 3s 11ms/step - loss: 5.4264 - mae: 5.9007\n",
            "Epoch 81/100\n",
            "207/207 [==============================] - 2s 10ms/step - loss: 5.2467 - mae: 5.7180\n",
            "Epoch 82/100\n",
            "207/207 [==============================] - 2s 8ms/step - loss: 4.9919 - mae: 5.4608\n",
            "Epoch 83/100\n",
            "207/207 [==============================] - 2s 8ms/step - loss: 5.7562 - mae: 6.2250\n",
            "Epoch 84/100\n",
            "207/207 [==============================] - 2s 8ms/step - loss: 4.7645 - mae: 5.2333\n",
            "Epoch 85/100\n",
            "207/207 [==============================] - 2s 8ms/step - loss: 4.2354 - mae: 4.6983\n",
            "Epoch 86/100\n",
            "207/207 [==============================] - 2s 8ms/step - loss: 4.0878 - mae: 4.5550\n",
            "Epoch 87/100\n",
            "207/207 [==============================] - 2s 10ms/step - loss: 5.0378 - mae: 5.5030\n",
            "Epoch 88/100\n",
            "207/207 [==============================] - 2s 11ms/step - loss: 5.4573 - mae: 5.9265\n",
            "Epoch 89/100\n",
            "207/207 [==============================] - 2s 8ms/step - loss: 5.6655 - mae: 6.1376\n",
            "Epoch 90/100\n",
            "207/207 [==============================] - 2s 8ms/step - loss: 4.9334 - mae: 5.4041\n",
            "Epoch 91/100\n",
            "207/207 [==============================] - 2s 8ms/step - loss: 4.1985 - mae: 4.6598\n",
            "Epoch 92/100\n",
            "207/207 [==============================] - 2s 8ms/step - loss: 4.4923 - mae: 4.9596\n",
            "Epoch 93/100\n",
            "207/207 [==============================] - 2s 9ms/step - loss: 5.0003 - mae: 5.4748\n",
            "Epoch 94/100\n",
            "207/207 [==============================] - 3s 11ms/step - loss: 5.9053 - mae: 6.3791\n",
            "Epoch 95/100\n",
            "207/207 [==============================] - 2s 8ms/step - loss: 3.7562 - mae: 4.2189\n",
            "Epoch 96/100\n",
            "207/207 [==============================] - 2s 8ms/step - loss: 3.6152 - mae: 4.0829\n",
            "Epoch 97/100\n",
            "207/207 [==============================] - 2s 8ms/step - loss: 5.5123 - mae: 5.9839\n",
            "Epoch 98/100\n",
            "207/207 [==============================] - 2s 10ms/step - loss: 4.9927 - mae: 5.4630\n",
            "Epoch 99/100\n",
            "207/207 [==============================] - 2s 11ms/step - loss: 5.2757 - mae: 5.7462\n",
            "Epoch 100/100\n",
            "207/207 [==============================] - 2s 8ms/step - loss: 4.7338 - mae: 5.2063\n"
          ]
        }
      ]
    },
    {
      "cell_type": "code",
      "source": [
        "# Get mae and loss from history log\n",
        "mae=history.history['mae']\n",
        "loss=history.history['loss']\n",
        "\n",
        "# Get number of epochs\n",
        "epochs=range(len(loss))\n",
        "\n",
        "# Plot mae and loss\n",
        "plot_series(\n",
        "    x=epochs,\n",
        "    y=(mae, loss),\n",
        "    title='MAE and Loss',\n",
        "    xlabel='Epochs',\n",
        "    ylabel='Loss & MAE',\n",
        "    legend=['MAE', 'Loss']\n",
        "    )\n",
        "\n",
        "# Only plot the last 80% of the epochs\n",
        "zoom_split = int(epochs[-1] * 0.2)\n",
        "epochs_zoom = epochs[zoom_split:]\n",
        "mae_zoom = mae[zoom_split:]\n",
        "loss_zoom = loss[zoom_split:]\n",
        "\n",
        "# Plot zoomed mae and loss\n",
        "plot_series(\n",
        "    x=epochs_zoom,\n",
        "    y=(mae_zoom, loss_zoom),\n",
        "    title='Zoomed MAE and Loss',\n",
        "    xlabel='Epochs',\n",
        "    ylabel='Loss & MAE',\n",
        "    legend=['MAE', 'Loss']\n",
        "    )"
      ],
      "metadata": {
        "colab": {
          "base_uri": "https://localhost:8080/",
          "height": 649
        },
        "id": "QyiLkj2rOtbt",
        "outputId": "982d55b7-ca60-4584-e150-14cff9f20f79"
      },
      "execution_count": 14,
      "outputs": [
        {
          "output_type": "display_data",
          "data": {
            "text/plain": [
              "<Figure size 500x300 with 1 Axes>"
            ],
            "image/png": "[encoded data removed]"
          },
          "metadata": {}
        },
        {
          "output_type": "display_data",
          "data": {
            "text/plain": [
              "<Figure size 500x300 with 1 Axes>"
            ],
            "image/png": "[encoded data removed]"
          },
          "metadata": {}
        }
      ]
    },
    {
      "cell_type": "code",
      "source": [
        "def model_forecast(model, series, window_size, batch_size):\n",
        "    \"\"\"Uses an input model to generate predictions on data windows\n",
        "\n",
        "    Args:\n",
        "      model (TF Keras Model) - model that accepts data windows\n",
        "      series (array of float) - contains the values of the time series\n",
        "      window_size (int) - the number of time steps to include in the window\n",
        "      batch_size (int) - the batch size\n",
        "\n",
        "    Returns:\n",
        "      forecast (numpy array) - array containing predictions\n",
        "    \"\"\"\n",
        "\n",
        "    # Generate a TF Dataset from the series values\n",
        "    dataset = tf.data.Dataset.from_tensor_slices(series)\n",
        "\n",
        "    # Window the data but only take those with the specified size\n",
        "    dataset = dataset.window(window_size, shift=1, drop_remainder=True)\n",
        "\n",
        "    # Flatten the windows by putting its elements in a single batch\n",
        "    dataset = dataset.flat_map(lambda w: w.batch(window_size))\n",
        "\n",
        "    # Create batches of windows\n",
        "    dataset = dataset.batch(batch_size).prefetch(1)\n",
        "\n",
        "    # Get predictions on the entire dataset\n",
        "    forecast = model.predict(dataset)\n",
        "\n",
        "    return forecast"
      ],
      "metadata": {
        "id": "Fia_WNtrPXWx"
      },
      "execution_count": 43,
      "outputs": []
    },
    {
      "cell_type": "code",
      "source": [
        "# The following few cells breakdown the function model_forecast() into several different steps,\n",
        "# including examing the process details\n",
        "forecast_series = series[split_time-window_size+1:]"
      ],
      "metadata": {
        "id": "osPCwbrsUZSo"
      },
      "execution_count": 16,
      "outputs": []
    },
    {
      "cell_type": "code",
      "source": [
        "forecast_series.shape"
      ],
      "metadata": {
        "colab": {
          "base_uri": "https://localhost:8080/"
        },
        "id": "V4jz10p3h6RE",
        "outputId": "778889cd-8a25-439e-c6dc-ae869da67c01"
      },
      "execution_count": 17,
      "outputs": [
        {
          "output_type": "execute_result",
          "data": {
            "text/plain": [
              "(599,)"
            ]
          },
          "metadata": {},
          "execution_count": 17
        }
      ]
    },
    {
      "cell_type": "code",
      "source": [
        "# Convert data list to dataset\n",
        "dataset = tf.data.Dataset.from_tensor_slices(forecast_series)"
      ],
      "metadata": {
        "id": "UwvsTic_j6k6"
      },
      "execution_count": 18,
      "outputs": []
    },
    {
      "cell_type": "code",
      "source": [
        "for e in dataset.take(5):\n",
        "  print(f'item of the dataset {e}, shape of element: {e.shape}')"
      ],
      "metadata": {
        "colab": {
          "base_uri": "https://localhost:8080/"
        },
        "id": "E7EE2oBXkHz3",
        "outputId": "a4519568-4d8f-4aed-9fa4-7f66128b703b"
      },
      "execution_count": 19,
      "outputs": [
        {
          "output_type": "stream",
          "name": "stdout",
          "text": [
            "item of the dataset 630.0, shape of element: ()\n",
            "item of the dataset 627.0, shape of element: ()\n",
            "item of the dataset 632.0, shape of element: ()\n",
            "item of the dataset 663.0, shape of element: ()\n",
            "item of the dataset 660.0, shape of element: ()\n"
          ]
        }
      ]
    },
    {
      "cell_type": "code",
      "source": [
        "# Windowing the dataset into set of the same window size\n",
        "dataset = dataset.window(window_size, shift=1, drop_remainder=True)"
      ],
      "metadata": {
        "id": "FZxiEjaQnW3C"
      },
      "execution_count": 20,
      "outputs": []
    },
    {
      "cell_type": "code",
      "source": [
        "for d in dataset.take(1):\n",
        "  print(list(d)[0])\n",
        "  print(len(list(d)))"
      ],
      "metadata": {
        "colab": {
          "base_uri": "https://localhost:8080/"
        },
        "id": "youDmWX9kYCo",
        "outputId": "0853468e-a144-4731-8579-c1f404aceaf4"
      },
      "execution_count": 33,
      "outputs": [
        {
          "output_type": "stream",
          "name": "stdout",
          "text": [
            "tf.Tensor(630.0, shape=(), dtype=float64)\n",
            "20\n"
          ]
        }
      ]
    },
    {
      "cell_type": "code",
      "source": [
        "print(f'window size: {window_size}, length of dataset: {len(dataset)}')"
      ],
      "metadata": {
        "colab": {
          "base_uri": "https://localhost:8080/"
        },
        "id": "4x8oui0Bngcd",
        "outputId": "a7a8c79d-e5d9-495b-aca8-a3a5df708f72"
      },
      "execution_count": 34,
      "outputs": [
        {
          "output_type": "stream",
          "name": "stdout",
          "text": [
            "window size: 20, length of dataset: 580\n"
          ]
        }
      ]
    },
    {
      "cell_type": "code",
      "source": [
        "# Examing the contents of windows, e.g. 5 windows\n",
        "for element in dataset.take(5):\n",
        "  print(f'length of element: {len(element)}')\n",
        "  print([y.numpy() for y in element])"
      ],
      "metadata": {
        "colab": {
          "base_uri": "https://localhost:8080/"
        },
        "id": "-vMqe5opoI4b",
        "outputId": "cdac0c98-2c33-43bf-a608-c332d552af69"
      },
      "execution_count": 35,
      "outputs": [
        {
          "output_type": "stream",
          "name": "stdout",
          "text": [
            "length of element: 20\n",
            "[630.0, 627.0, 632.0, 663.0, 660.0, 652.0, 650.0, 641.0, 625.0, 635.0, 606.0, 609.0, 622.0, 601.0, 601.0, 598.0, 595.0, 597.0, 609.0, 614.0]\n",
            "length of element: 20\n",
            "[627.0, 632.0, 663.0, 660.0, 652.0, 650.0, 641.0, 625.0, 635.0, 606.0, 609.0, 622.0, 601.0, 601.0, 598.0, 595.0, 597.0, 609.0, 614.0, 611.0]\n",
            "length of element: 20\n",
            "[632.0, 663.0, 660.0, 652.0, 650.0, 641.0, 625.0, 635.0, 606.0, 609.0, 622.0, 601.0, 601.0, 598.0, 595.0, 597.0, 609.0, 614.0, 611.0, 613.0]\n",
            "length of element: 20\n",
            "[663.0, 660.0, 652.0, 650.0, 641.0, 625.0, 635.0, 606.0, 609.0, 622.0, 601.0, 601.0, 598.0, 595.0, 597.0, 609.0, 614.0, 611.0, 613.0, 604.0]\n",
            "length of element: 20\n",
            "[660.0, 652.0, 650.0, 641.0, 625.0, 635.0, 606.0, 609.0, 622.0, 601.0, 601.0, 598.0, 595.0, 597.0, 609.0, 614.0, 611.0, 613.0, 604.0, 602.0]\n"
          ]
        }
      ]
    },
    {
      "cell_type": "code",
      "source": [
        "# Flatten the windows by putting its elements in a single batch\n",
        "dataset = dataset.flat_map(lambda w: w.batch(window_size))"
      ],
      "metadata": {
        "id": "5sKHa1D6-icS"
      },
      "execution_count": 36,
      "outputs": []
    },
    {
      "cell_type": "code",
      "source": [
        "# Examing the contents of a flatten window\n",
        "for element in dataset.take(1):\n",
        "  print(f'content of one flatten window: {element}')\n",
        "  print(f'length of the flatten window: {len(element)}')\n",
        "  print(f'shape of the element: {element.shape}')\n",
        "  print(element.numpy()[2])\n"
      ],
      "metadata": {
        "colab": {
          "base_uri": "https://localhost:8080/"
        },
        "id": "JXJA5ren-ur8",
        "outputId": "120d29d7-18d4-4538-8b2d-f4b51e0a0f7d"
      },
      "execution_count": 37,
      "outputs": [
        {
          "output_type": "stream",
          "name": "stdout",
          "text": [
            "content of one flatten window: [630. 627. 632. 663. 660. 652. 650. 641. 625. 635. 606. 609. 622. 601.\n",
            " 601. 598. 595. 597. 609. 614.]\n",
            "length of the flatten window: 20\n",
            "shape of the element: (20,)\n",
            "632.0\n"
          ]
        }
      ]
    },
    {
      "cell_type": "code",
      "source": [
        "n = 0\n",
        "for element in dataset:\n",
        "  n += 1\n",
        "print(f'Total number of data elements: {n}')"
      ],
      "metadata": {
        "colab": {
          "base_uri": "https://localhost:8080/"
        },
        "id": "UeC1lcMtBhHs",
        "outputId": "660e6e88-5020-473e-8545-6c0d7258ba6d"
      },
      "execution_count": 38,
      "outputs": [
        {
          "output_type": "stream",
          "name": "stdout",
          "text": [
            "Total number of data elements: 580\n"
          ]
        }
      ]
    },
    {
      "cell_type": "code",
      "source": [
        "# Create batches of windows\n",
        "dataset = dataset.batch(batch_size).prefetch(1)"
      ],
      "metadata": {
        "id": "yMXuIbe7AkWa"
      },
      "execution_count": 39,
      "outputs": []
    },
    {
      "cell_type": "code",
      "source": [
        "n = 0\n",
        "for element in dataset:\n",
        "  n += 1\n",
        "print(f'Total number of batches: {n}')\n",
        "for element in dataset.take(1):\n",
        "  print(element)\n",
        "  print(f'shape of element: {element.shape}')\n",
        "  print(f'value of an item in the element: {element[0]}')"
      ],
      "metadata": {
        "colab": {
          "base_uri": "https://localhost:8080/"
        },
        "id": "l7C1YHMvCQEx",
        "outputId": "d610bdd6-da4f-488f-d7f9-8bc1705a899d"
      },
      "execution_count": 40,
      "outputs": [
        {
          "output_type": "stream",
          "name": "stdout",
          "text": [
            "Total number of batches: 49\n",
            "tf.Tensor(\n",
            "[[630. 627. 632. 663. 660. 652. 650. 641. 625. 635. 606. 609. 622. 601.\n",
            "  601. 598. 595. 597. 609. 614.]\n",
            " [627. 632. 663. 660. 652. 650. 641. 625. 635. 606. 609. 622. 601. 601.\n",
            "  598. 595. 597. 609. 614. 611.]\n",
            " [632. 663. 660. 652. 650. 641. 625. 635. 606. 609. 622. 601. 601. 598.\n",
            "  595. 597. 609. 614. 611. 613.]\n",
            " [663. 660. 652. 650. 641. 625. 635. 606. 609. 622. 601. 601. 598. 595.\n",
            "  597. 609. 614. 611. 613. 604.]\n",
            " [660. 652. 650. 641. 625. 635. 606. 609. 622. 601. 601. 598. 595. 597.\n",
            "  609. 614. 611. 613. 604. 602.]\n",
            " [652. 650. 641. 625. 635. 606. 609. 622. 601. 601. 598. 595. 597. 609.\n",
            "  614. 611. 613. 604. 602. 591.]\n",
            " [650. 641. 625. 635. 606. 609. 622. 601. 601. 598. 595. 597. 609. 614.\n",
            "  611. 613. 604. 602. 591. 593.]\n",
            " [641. 625. 635. 606. 609. 622. 601. 601. 598. 595. 597. 609. 614. 611.\n",
            "  613. 604. 602. 591. 593. 594.]\n",
            " [625. 635. 606. 609. 622. 601. 601. 598. 595. 597. 609. 614. 611. 613.\n",
            "  604. 602. 591. 593. 594. 576.]\n",
            " [635. 606. 609. 622. 601. 601. 598. 595. 597. 609. 614. 611. 613. 604.\n",
            "  602. 591. 593. 594. 576. 575.]\n",
            " [606. 609. 622. 601. 601. 598. 595. 597. 609. 614. 611. 613. 604. 602.\n",
            "  591. 593. 594. 576. 575. 590.]\n",
            " [609. 622. 601. 601. 598. 595. 597. 609. 614. 611. 613. 604. 602. 591.\n",
            "  593. 594. 576. 575. 590. 599.]], shape=(12, 20), dtype=float64)\n",
            "shape of element: (12, 20)\n",
            "value of an item in the element: [630. 627. 632. 663. 660. 652. 650. 641. 625. 635. 606. 609. 622. 601.\n",
            " 601. 598. 595. 597. 609. 614.]\n"
          ]
        }
      ]
    },
    {
      "cell_type": "code",
      "source": [
        "forecast_series.shape"
      ],
      "metadata": {
        "colab": {
          "base_uri": "https://localhost:8080/"
        },
        "id": "vsPw27J6nVXO",
        "outputId": "5e63e513-b131-4d96-ad71-09cdd64ec696"
      },
      "execution_count": 41,
      "outputs": [
        {
          "output_type": "execute_result",
          "data": {
            "text/plain": [
              "(599,)"
            ]
          },
          "metadata": {},
          "execution_count": 41
        }
      ]
    },
    {
      "cell_type": "code",
      "source": [
        "#\n",
        "# Calling model_forecast() to predict data of forecast_serie\n",
        "#\n",
        "forecast = model_forecast(model, forecast_series, window_size, batch_size)"
      ],
      "metadata": {
        "colab": {
          "base_uri": "https://localhost:8080/"
        },
        "id": "s6F9amxmWTo8",
        "outputId": "6003bbca-e12e-4ba1-b1e6-1d78bff7e8a4"
      },
      "execution_count": 44,
      "outputs": [
        {
          "output_type": "stream",
          "name": "stdout",
          "text": [
            "49/49 [==============================] - 1s 7ms/step\n"
          ]
        }
      ]
    },
    {
      "cell_type": "code",
      "source": [
        "forecast.shape"
      ],
      "metadata": {
        "colab": {
          "base_uri": "https://localhost:8080/"
        },
        "id": "1z0NnP5dWin5",
        "outputId": "16666433-a782-4369-ebd2-13f014c5ff86"
      },
      "execution_count": 45,
      "outputs": [
        {
          "output_type": "execute_result",
          "data": {
            "text/plain": [
              "(580, 1)"
            ]
          },
          "metadata": {},
          "execution_count": 45
        }
      ]
    },
    {
      "cell_type": "code",
      "source": [
        "results = forecast.squeeze()"
      ],
      "metadata": {
        "id": "21lK5q34W2nT"
      },
      "execution_count": 47,
      "outputs": []
    },
    {
      "cell_type": "code",
      "source": [
        "results"
      ],
      "metadata": {
        "colab": {
          "base_uri": "https://localhost:8080/"
        },
        "id": "uw5vo_QgW-Qx",
        "outputId": "de253032-c108-4fd3-9a7d-fa37247cfca3"
      },
      "execution_count": 48,
      "outputs": [
        {
          "output_type": "execute_result",
          "data": {
            "text/plain": [
              "array([553.78015, 552.17145, 543.0662 , 536.9625 , 534.8898 , 529.25214,\n",
              "       528.8977 , 535.31964, 524.25574, 530.9527 , 538.72284, 536.9368 ,\n",
              "       543.5053 , 543.6922 , 546.8482 , 552.405  , 554.3464 , 550.78955,\n",
              "       546.7868 , 543.75995, 541.84235, 545.3714 , 549.6896 , 553.78516,\n",
              "       551.4097 , 549.63806, 556.4112 , 562.87396, 561.1069 , 559.34827,\n",
              "       560.26355, 564.4602 , 559.81854, 549.70276, 546.98395, 544.1213 ,\n",
              "       543.3077 , 548.10767, 548.2603 , 531.31354, 516.84393, 508.05283,\n",
              "       513.55133, 514.443  , 521.7195 , 526.6977 , 521.574  , 518.10657,\n",
              "       514.6465 , 517.6678 , 520.5224 , 523.71454, 525.4822 , 528.5645 ,\n",
              "       529.5576 , 524.0422 , 524.0064 , 533.8716 , 544.0231 , 555.9709 ,\n",
              "       556.12634, 562.8962 , 559.759  , 561.94415, 566.01746, 565.1014 ,\n",
              "       567.6321 , 552.3833 , 544.28827, 549.9597 , 550.3633 , 546.3171 ,\n",
              "       544.5592 , 546.386  , 547.3039 , 546.6539 , 545.85596, 548.16205,\n",
              "       551.67377, 548.3541 , 543.3069 , 536.8384 , 537.298  , 539.5881 ,\n",
              "       542.49146, 555.03656, 550.3579 , 537.4803 , 536.727  , 539.75916,\n",
              "       542.7396 , 540.7295 , 536.42175, 536.00934, 538.19867, 539.0206 ,\n",
              "       537.5412 , 537.93317, 541.8181 , 546.475  , 544.3625 , 536.8611 ,\n",
              "       532.34827, 529.23395, 538.8453 , 547.39215, 547.4362 , 546.39087,\n",
              "       542.64014, 540.24225, 534.3544 , 529.5556 , 533.61475, 536.1966 ,\n",
              "       540.4035 , 540.85834, 540.1312 , 540.3509 , 541.9933 , 544.82056,\n",
              "       542.22845, 544.52484, 548.73724, 551.05316, 552.3246 , 552.56836,\n",
              "       555.10596, 559.0848 , 571.4574 , 584.673  , 580.8393 , 577.401  ,\n",
              "       567.11   , 561.3848 , 561.1691 , 560.7161 , 554.69653, 543.9056 ,\n",
              "       544.41455, 538.64185, 530.85284, 529.4221 , 530.3588 , 531.25323,\n",
              "       528.4586 , 526.87744, 525.26495, 525.48956, 530.89874, 533.208  ,\n",
              "       539.8465 , 543.26215, 538.232  , 535.38464, 535.1908 , 543.59735,\n",
              "       547.97235, 550.1101 , 551.11896, 552.1345 , 554.5541 , 552.41547,\n",
              "       551.7277 , 556.4391 , 562.4532 , 567.0988 , 560.49805, 559.2691 ,\n",
              "       556.2613 , 556.0432 , 558.6769 , 558.2222 , 561.28046, 562.3878 ,\n",
              "       561.604  , 562.2764 , 562.6667 , 563.9104 , 562.0454 , 560.4472 ,\n",
              "       564.7189 , 563.1712 , 563.3955 , 560.6509 , 553.9028 , 556.6152 ,\n",
              "       559.28314, 559.05554, 557.71277, 555.1628 , 552.26447, 549.1134 ,\n",
              "       549.3468 , 551.25415, 552.367  , 552.24945, 556.0272 , 561.6937 ,\n",
              "       562.6158 , 561.00946, 557.3067 , 558.3308 , 563.68695, 565.5486 ,\n",
              "       569.66016, 571.65485, 570.0637 , 569.6387 , 574.20776, 578.6474 ,\n",
              "       580.5127 , 581.79846, 589.5629 , 598.5229 , 596.67456, 589.96246,\n",
              "       591.06433, 590.75995, 590.6122 , 589.588  , 588.58936, 583.92847,\n",
              "       574.0399 , 572.04144, 578.3619 , 587.4591 , 583.49786, 576.3289 ,\n",
              "       573.9384 , 572.8892 , 565.9274 , 557.65045, 558.58777, 563.32007,\n",
              "       553.5737 , 554.2386 , 551.8154 , 551.66986, 555.0022 , 553.4447 ,\n",
              "       542.592  , 529.3035 , 523.7054 , 523.84827, 526.79846, 525.6582 ,\n",
              "       512.8321 , 506.76245, 510.39294, 513.9431 , 515.25275, 514.5278 ,\n",
              "       522.37195, 526.124  , 526.40436, 521.9249 , 519.66626, 522.99   ,\n",
              "       533.91815, 543.3879 , 538.9568 , 523.9023 , 524.2845 , 525.6778 ,\n",
              "       533.49713, 543.38885, 538.41235, 530.8356 , 526.6076 , 527.4978 ,\n",
              "       526.99365, 523.8749 , 515.9656 , 511.37042, 509.01447, 490.28693,\n",
              "       486.99866, 491.47998, 494.39746, 499.93414, 503.597  , 501.53247,\n",
              "       495.16214, 487.05505, 484.81903, 478.2364 , 479.1296 , 480.39633,\n",
              "       480.73102, 483.152  , 478.11838, 481.8106 , 483.83356, 488.1567 ,\n",
              "       490.14172, 482.90826, 486.8682 , 491.108  , 492.29117, 495.51746,\n",
              "       495.2975 , 497.44778, 496.11288, 508.1463 , 512.8354 , 503.16705,\n",
              "       486.7175 , 479.32993, 483.33664, 482.60776, 478.43375, 479.65573,\n",
              "       482.5916 , 483.50052, 470.74405, 463.11798, 461.62253, 463.40622,\n",
              "       462.7093 , 449.46808, 422.9133 , 402.3603 , 405.29446, 405.01083,\n",
              "       416.7221 , 425.2855 , 427.30374, 417.23398, 424.35403, 430.7918 ,\n",
              "       434.45087, 440.07425, 442.8342 , 444.33273, 443.81052, 444.30396,\n",
              "       443.6759 , 444.30026, 458.09625, 474.34326, 480.53647, 489.80936,\n",
              "       475.50882, 474.4843 , 479.71414, 498.15997, 496.39377, 492.9739 ,\n",
              "       480.7417 , 481.90012, 487.9871 , 491.28384, 491.01526, 491.05157,\n",
              "       490.30887, 492.46393, 486.47238, 481.33344, 477.26077, 480.5057 ,\n",
              "       491.76483, 485.1192 , 480.69296, 478.33386, 472.18948, 466.9287 ,\n",
              "       472.5096 , 471.0608 , 457.26706, 452.3111 , 454.54227, 456.70575,\n",
              "       451.74042, 446.67383, 445.68958, 444.58066, 448.45682, 446.26654,\n",
              "       438.11017, 432.5777 , 426.0961 , 422.57986, 419.10788, 418.13245,\n",
              "       407.12405, 399.01227, 409.33395, 417.4887 , 419.4309 , 410.09174,\n",
              "       366.2962 , 355.05728, 359.51392, 371.12738, 367.00577, 371.22018,\n",
              "       368.70038, 369.91757, 367.50287, 363.94452, 349.91754, 351.93045,\n",
              "       362.12964, 364.35327, 366.91537, 367.12943, 367.70007, 360.18997,\n",
              "       363.93488, 373.15054, 380.18652, 383.0484 , 385.47736, 389.88513,\n",
              "       398.1151 , 404.04572, 413.77057, 419.96323, 431.8323 , 435.8194 ,\n",
              "       439.11597, 447.99167, 451.0962 , 455.72458, 447.32452, 460.29474,\n",
              "       478.14255, 487.15814, 488.19165, 480.73898, 482.76105, 469.19775,\n",
              "       467.6778 , 460.1932 , 458.6402 , 454.89908, 457.75824, 461.61124,\n",
              "       453.1378 , 446.3825 , 437.48187, 434.96027, 445.23154, 440.67474,\n",
              "       436.37372, 433.6765 , 429.90622, 425.80295, 429.28583, 434.14127,\n",
              "       434.89954, 434.6891 , 436.61703, 443.20444, 445.15863, 444.6527 ,\n",
              "       447.5945 , 454.3208 , 462.7393 , 465.13748, 465.94855, 472.65662,\n",
              "       476.28665, 482.59735, 492.0226 , 493.1573 , 494.5548 , 501.71524,\n",
              "       512.76605, 517.115  , 521.53845, 516.05457, 503.4751 , 505.26648,\n",
              "       505.5396 , 499.6375 , 497.41043, 494.47256, 484.41095, 488.65796,\n",
              "       492.237  , 488.4069 , 483.39294, 490.63272, 497.71973, 491.49796,\n",
              "       488.36584, 481.03232, 479.32324, 475.3095 , 480.7015 , 479.6935 ,\n",
              "       485.7656 , 488.54083, 489.81577, 499.0491 , 500.7931 , 504.01453,\n",
              "       498.12683, 493.26047, 496.73233, 498.3458 , 497.13763, 496.18478,\n",
              "       496.29898, 500.13867, 498.7775 , 498.7987 , 494.5762 , 499.66678,\n",
              "       499.1928 , 499.51654, 496.03204, 489.97913, 485.88632, 481.3016 ,\n",
              "       477.00482, 474.7073 , 473.1737 , 473.28943, 473.54074, 470.90338,\n",
              "       469.38968, 469.59958, 472.11124, 476.01047, 478.47577, 473.6867 ,\n",
              "       468.25262, 467.5889 , 472.744  , 476.4444 , 480.67566, 485.1566 ,\n",
              "       490.6099 , 496.56534, 496.57956, 497.72345, 502.5278 , 511.728  ,\n",
              "       515.4883 , 513.55164, 509.33386, 510.6399 , 515.57056, 523.5063 ,\n",
              "       533.8708 , 539.17694, 539.154  , 537.7058 , 537.55634, 539.4517 ,\n",
              "       542.1322 , 545.94543, 550.59827, 545.8623 , 538.24896, 532.5946 ,\n",
              "       531.26776, 536.8422 , 544.49036, 543.386  , 546.7652 , 549.8648 ,\n",
              "       546.96594, 540.39557, 539.1254 , 535.81665, 531.586  , 531.58014,\n",
              "       532.8318 , 534.7834 , 537.9851 , 534.84973, 533.5895 , 536.72003,\n",
              "       528.2142 , 524.24884, 527.7639 , 528.5335 ], dtype=float32)"
            ]
          },
          "metadata": {},
          "execution_count": 48
        }
      ]
    },
    {
      "cell_type": "code",
      "source": [
        "plot_series(time_valid, (x_valid, results))"
      ],
      "metadata": {
        "colab": {
          "base_uri": "https://localhost:8080/",
          "height": 291
        },
        "id": "1M2NXEEWojzK",
        "outputId": "efb1155f-6c8d-4ebd-e618-251bd88ff0ba"
      },
      "execution_count": 49,
      "outputs": [
        {
          "output_type": "display_data",
          "data": {
            "text/plain": [
              "<Figure size 500x300 with 1 Axes>"
            ],
            "image/png": "[encoded data removed]"
          },
          "metadata": {}
        }
      ]
    },
    {
      "cell_type": "code",
      "source": [
        "# Reduce the original series\n",
        "forecast_series = series[split_time-window_size+1:]\n",
        "\n",
        "# Use helper function to generate predictions\n",
        "forecast = model_forecast(model, forecast_series, window_size, batch_size)\n",
        "\n",
        "# Drop single dimensional axis\n",
        "results = forecast.squeeze()\n",
        "\n",
        "# Plot the results\n",
        "plot_series(time_valid, (x_valid, results))"
      ],
      "metadata": {
        "id": "IlDa-nxDPcPd"
      },
      "execution_count": null,
      "outputs": []
    },
    {
      "cell_type": "code",
      "source": [
        "# Compute the MAE\n",
        "print(tf.keras.metrics.mean_absolute_error(x_valid, results).numpy())"
      ],
      "metadata": {
        "colab": {
          "base_uri": "https://localhost:8080/"
        },
        "id": "Q9d5ic2-Pgrt",
        "outputId": "9a484911-9395-47fa-e9c4-e79eacc347fd"
      },
      "execution_count": 50,
      "outputs": [
        {
          "output_type": "stream",
          "name": "stdout",
          "text": [
            "40.73795\n"
          ]
        }
      ]
    }
  ]
}